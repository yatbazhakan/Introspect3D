{
 "cells": [
  {
   "cell_type": "markdown",
   "metadata": {},
   "source": [
    "Caption modification as v4\n",
    "Details\n",
    "- Three different versions, only long distance estimation, only lat distance estimation, both\n",
    "- More than 20-40m distance converted to no error, it is a rough filter implementation for TaskVLM"
   ]
  },
  {
   "cell_type": "code",
   "execution_count": 22,
   "metadata": {},
   "outputs": [],
   "source": [
    "import json\n",
    "import os\n",
    "import sys\n",
    "import pandas as pd\n",
    "import numpy as np\n",
    "import copy"
   ]
  },
  {
   "cell_type": "code",
   "execution_count": 23,
   "metadata": {},
   "outputs": [
    {
     "data": {
      "text/plain": [
       "dict_keys(['x_features', 'captions'])"
      ]
     },
     "execution_count": 23,
     "metadata": {},
     "output_type": "execute_result"
    }
   ],
   "source": [
    "data = json.load(open('/mnt/ssd1/test/nuscenes_detect_long_lat_v3.json', 'r'))\n",
    "data.keys()"
   ]
  },
  {
   "cell_type": "code",
   "execution_count": 24,
   "metadata": {},
   "outputs": [],
   "source": [
    "data_long = copy.deepcopy(data)\n",
    "data_lat = copy.deepcopy(data)"
   ]
  },
  {
   "cell_type": "code",
   "execution_count": 25,
   "metadata": {},
   "outputs": [
    {
     "data": {
      "text/plain": [
       "['objects missed closest at right front 10-20m',\n",
       " 'objects missed closest at left front 10-20m',\n",
       " 'objects missed closest at right front 10-20m',\n",
       " 'objects missed closest at left back 10-20m',\n",
       " 'objects missed closest at left back 10-20m']"
      ]
     },
     "execution_count": 25,
     "metadata": {},
     "output_type": "execute_result"
    }
   ],
   "source": [
    "captions = data.get('captions')\n",
    "captions[:5]"
   ]
  },
  {
   "cell_type": "code",
   "execution_count": 30,
   "metadata": {},
   "outputs": [
    {
     "data": {
      "text/plain": [
       "array(['no object detections missed in the scene',\n",
       "       'objects missed closest at left back 10-20m',\n",
       "       'objects missed closest at left back 20-40m',\n",
       "       'objects missed closest at left back 40-80m',\n",
       "       'objects missed closest at left back 5-10m',\n",
       "       'objects missed closest at left back <5m',\n",
       "       'objects missed closest at left back >80m',\n",
       "       'objects missed closest at left front 10-20m',\n",
       "       'objects missed closest at left front 20-40m',\n",
       "       'objects missed closest at left front 40-80m',\n",
       "       'objects missed closest at left front 5-10m',\n",
       "       'objects missed closest at left front <5m',\n",
       "       'objects missed closest at left front >80m',\n",
       "       'objects missed closest at right back 10-20m',\n",
       "       'objects missed closest at right back 20-40m',\n",
       "       'objects missed closest at right back 40-80m',\n",
       "       'objects missed closest at right back 5-10m',\n",
       "       'objects missed closest at right back <5m',\n",
       "       'objects missed closest at right back >80m',\n",
       "       'objects missed closest at right front 10-20m',\n",
       "       'objects missed closest at right front 20-40m',\n",
       "       'objects missed closest at right front 40-80m',\n",
       "       'objects missed closest at right front 5-10m',\n",
       "       'objects missed closest at right front <5m',\n",
       "       'objects missed closest at right front >80m'], dtype='<U44')"
      ]
     },
     "execution_count": 30,
     "metadata": {},
     "output_type": "execute_result"
    }
   ],
   "source": [
    "np.unique(captions)"
   ]
  },
  {
   "cell_type": "code",
   "execution_count": 31,
   "metadata": {},
   "outputs": [
    {
     "data": {
      "text/plain": [
       "array(['no object detections missed in the scene',\n",
       "       'objects missed closest at left back 10-20m',\n",
       "       'objects missed closest at left back 5-10m',\n",
       "       'objects missed closest at left back <5m',\n",
       "       'objects missed closest at left front 10-20m',\n",
       "       'objects missed closest at left front 5-10m',\n",
       "       'objects missed closest at left front <5m',\n",
       "       'objects missed closest at right back 10-20m',\n",
       "       'objects missed closest at right back 5-10m',\n",
       "       'objects missed closest at right back <5m',\n",
       "       'objects missed closest at right front 10-20m',\n",
       "       'objects missed closest at right front 5-10m',\n",
       "       'objects missed closest at right front <5m'], dtype='<U44')"
      ]
     },
     "execution_count": 31,
     "metadata": {},
     "output_type": "execute_result"
    }
   ],
   "source": [
    "def move_to_safe(s):\n",
    "    words=s.split()\n",
    "    limit = ['20-40m','40-80m','>80m']\n",
    "    for word in words:\n",
    "        if word in limit:\n",
    "           return \"no object detections missed in the scene\"\n",
    "    return s\n",
    "captions= list(map(move_to_safe, captions))\n",
    "np.unique(captions)"
   ]
  },
  {
   "cell_type": "markdown",
   "metadata": {},
   "source": [
    "I will keep the stats calculations down, but will do the fixes for the new captions here"
   ]
  },
  {
   "cell_type": "markdown",
   "metadata": {},
   "source": [
    "First, remove left right, then will change based on exact patterns"
   ]
  },
  {
   "cell_type": "code",
   "execution_count": 32,
   "metadata": {},
   "outputs": [
    {
     "data": {
      "text/plain": [
       "array(['no object detections missed in the scene',\n",
       "       'objects missed closest at back 10-20m',\n",
       "       'objects missed closest at back 5-10m',\n",
       "       'objects missed closest at back <5m',\n",
       "       'objects missed closest at front 10-20m',\n",
       "       'objects missed closest at front 5-10m',\n",
       "       'objects missed closest at front <5m'], dtype='<U40')"
      ]
     },
     "execution_count": 32,
     "metadata": {},
     "output_type": "execute_result"
    }
   ],
   "source": [
    "captions_long = list(map(lambda x: x.replace('left',\"\"), captions))\n",
    "captions_long = list(map(lambda x: x.replace('right',\"\"), captions_long))\n",
    "captions_long = list(map(lambda x: x.replace('  ',\" \"), captions_long))\n",
    "np.unique(captions_long)"
   ]
  },
  {
   "cell_type": "code",
   "execution_count": 34,
   "metadata": {},
   "outputs": [
    {
     "data": {
      "text/plain": [
       "array(['no object detections missed in the scene',\n",
       "       'objects missed closest at left 10-20m',\n",
       "       'objects missed closest at left 5-10m',\n",
       "       'objects missed closest at left <5m',\n",
       "       'objects missed closest at right 10-20m',\n",
       "       'objects missed closest at right 5-10m',\n",
       "       'objects missed closest at right <5m'], dtype='<U40')"
      ]
     },
     "execution_count": 34,
     "metadata": {},
     "output_type": "execute_result"
    }
   ],
   "source": [
    "captions_lat = list(map(lambda x: x.replace('front',\"\"), captions))\n",
    "captions_lat = list(map(lambda x: x.replace('back',\"\"), captions_lat))\n",
    "captions_lat = list(map(lambda x: x.replace('  ',\" \"), captions_lat))\n",
    "np.unique(captions_lat)"
   ]
  },
  {
   "cell_type": "code",
   "execution_count": 46,
   "metadata": {},
   "outputs": [
    {
     "name": "stdout",
     "output_type": "stream",
     "text": [
      "Long Only\n",
      "{'no object detections missed in the scene': 11307,\n",
      " 'objects missed closest at back 10-20m': 7748,\n",
      " 'objects missed closest at back 5-10m': 2232,\n",
      " 'objects missed closest at back <5m': 306,\n",
      " 'objects missed closest at front 10-20m': 7784,\n",
      " 'objects missed closest at front 5-10m': 2374,\n",
      " 'objects missed closest at front <5m': 383}\n",
      "Lat Only\n",
      "{'no object detections missed in the scene': 11307,\n",
      " 'objects missed closest at left 10-20m': 7434,\n",
      " 'objects missed closest at left 5-10m': 2051,\n",
      " 'objects missed closest at left <5m': 395,\n",
      " 'objects missed closest at right 10-20m': 8098,\n",
      " 'objects missed closest at right 5-10m': 2555,\n",
      " 'objects missed closest at right <5m': 294}\n",
      "Both\n",
      "{'no object detections missed in the scene': 11307,\n",
      " 'objects missed closest at left back 10-20m': 3709,\n",
      " 'objects missed closest at left back 5-10m': 950,\n",
      " 'objects missed closest at left back <5m': 162,\n",
      " 'objects missed closest at left front 10-20m': 3725,\n",
      " 'objects missed closest at left front 5-10m': 1101,\n",
      " 'objects missed closest at left front <5m': 233,\n",
      " 'objects missed closest at right back 10-20m': 4039,\n",
      " 'objects missed closest at right back 5-10m': 1282,\n",
      " 'objects missed closest at right back <5m': 144,\n",
      " 'objects missed closest at right front 10-20m': 4059,\n",
      " 'objects missed closest at right front 5-10m': 1273,\n",
      " 'objects missed closest at right front <5m': 150}\n"
     ]
    }
   ],
   "source": [
    "#Distribution of captions\n",
    "from pprint import pprint\n",
    "values, counts = np.unique(captions_long, return_counts=True)\n",
    "print(\"Long Only\")\n",
    "pprint(dict(zip(values, counts)))\n",
    "values2, counts2 = np.unique(captions_lat, return_counts=True)\n",
    "print(\"Lat Only\")\n",
    "pprint(dict(zip(values2, counts2)))\n",
    "print(\"Both\")\n",
    "values3, counts3 = np.unique(captions, return_counts=True)\n",
    "pprint(dict(zip(values3, counts3)))\n",
    "\n"
   ]
  },
  {
   "cell_type": "code",
   "execution_count": null,
   "metadata": {},
   "outputs": [],
   "source": []
  },
  {
   "cell_type": "code",
   "execution_count": 45,
   "metadata": {},
   "outputs": [
    {
     "name": "stdout",
     "output_type": "stream",
     "text": [
      "missed_count: 20827\n",
      "no_missed_count: 11307\n",
      "missed_rate 0.6481297068525549\n",
      "no_missed_rate 0.35187029314744506\n",
      "---\n",
      "Long label ratio\n",
      "Front count (Ratio): 10541 (0.506121861045758)\n",
      "Back count (Ratio): 10286 (0.4938781389542421)\n",
      "---\n",
      "Lat label ratio\n",
      "Left count (Ratio): 9880 (0.47438421280069143)\n",
      "Right count (Ratio): 10947 (0.5256157871993086)\n",
      "---\n",
      "10-20m count (Ratio): 15532 (0.7457627118644068)\n",
      "5-10m count (Ratio): 4606 (0.22115523119028185)\n",
      "<5m count (Ratio): 689 (0.033082056945311376)\n"
     ]
    }
   ],
   "source": [
    "def get_error_ratio(caps,mode):\n",
    "    missed_count = 0\n",
    "    no_missed_count = 0\n",
    "    for cap in caps:\n",
    "        if \"no object\" in cap:\n",
    "            no_missed_count += 1\n",
    "        else:\n",
    "            missed_count += 1\n",
    "    print('missed_count:', missed_count)\n",
    "    print('no_missed_count:', no_missed_count)\n",
    "    print(\"missed_rate\", missed_count/len(caps))\n",
    "    print(\"no_missed_rate\", no_missed_count/len(caps))\n",
    "    print(\"---\")\n",
    "def get_location_ratio(caps,mode):\n",
    "    loc = [x for x in caps if \"no object\" not in x]\n",
    "    if mode == \"long\" or mode == \"all\":\n",
    "        front_count = len([x for x in loc if \"front\" in x])\n",
    "        back_count = len([x for x in loc if \"back\" in x])\n",
    "        print(\"Long label ratio\")\n",
    "        print(f\"Front count (Ratio): {front_count} ({front_count/len(loc)})\")\n",
    "        print(f\"Back count (Ratio): {back_count} ({back_count/len(loc)})\")\n",
    "        print(\"---\")\n",
    "    if mode == \"lat\" or mode == \"all\":\n",
    "        left_count = len([x for x in loc if \"left\" in x])\n",
    "        right_count = len([x for x in loc if \"right\" in x])\n",
    "        print(\"Lat label ratio\")\n",
    "        print(f\"Left count (Ratio): {left_count} ({left_count/len(loc)})\")\n",
    "        print(f\"Right count (Ratio): {right_count} ({right_count/len(loc)})\")\n",
    "        print(\"---\")\n",
    "def get_distance_ratio(caps):\n",
    "    distances = [x for x in caps if \"no object\" not in x]\n",
    "    distance = [x.split()[-1] for x in distances]\n",
    "    values, counts = np.unique(distance, return_counts=True)\n",
    "    for i in range(len(values)):\n",
    "        print(f\"{values[i]} count (Ratio): {counts[i]} ({counts[i]/len(distance)})\")\n",
    "    # print(\"Distance label ratio\")\n",
    "    # print(f\"Distance count (Ratio): {len(distance)} ({len(distance)/len(loc)})\")\n",
    "    # print(\"---\")\n",
    "get_error_ratio(captions_long,\"long\")\n",
    "get_location_ratio(captions,\"all\")\n",
    "get_distance_ratio(captions)"
   ]
  },
  {
   "cell_type": "code",
   "execution_count": 38,
   "metadata": {},
   "outputs": [],
   "source": [
    "data_long['captions'] = captions_long\n",
    "data_lat['captions'] = captions_lat\n",
    "data['captions'] = captions\n",
    "with open('/mnt/ssd1/test/nuscenes_detect_long_lat_v4.json', 'w') as f:\n",
    "    json.dump(data, f)\n",
    "with open('/mnt/ssd1/test/nuscenes_detect_long_v4.json', 'w') as f:\n",
    "    json.dump(data_long, f)\n",
    "with open('/mnt/ssd1/test/nuscenes_detect_lat_v4.json', 'w') as f:\n",
    "    json.dump(data_lat, f)"
   ]
  },
  {
   "cell_type": "code",
   "execution_count": 42,
   "metadata": {},
   "outputs": [
    {
     "name": "stdout",
     "output_type": "stream",
     "text": [
      "32134 32134\n",
      "32134 32134\n",
      "32134 32134\n"
     ]
    }
   ],
   "source": [
    "#Some sanity check\n",
    "print(len(data['captions']),len(data['x_features']))\n",
    "print(len(data_long['captions']),len(data_long['x_features']))\n",
    "print(len(data_lat['captions']),len(data_lat['x_features']))"
   ]
  },
  {
   "cell_type": "markdown",
   "metadata": {},
   "source": [
    "Some pre processing to identify the distribution for each class"
   ]
  },
  {
   "cell_type": "code",
   "execution_count": 8,
   "metadata": {},
   "outputs": [
    {
     "name": "stdout",
     "output_type": "stream",
     "text": [
      "32134\n"
     ]
    },
    {
     "data": {
      "text/plain": [
       "[['objects', 'missed', 'closest', 'at', 'right', 'front', '10-20m'],\n",
       " ['objects', 'missed', 'closest', 'at', 'left', 'front', '10-20m'],\n",
       " ['objects', 'missed', 'closest', 'at', 'right', 'front', '10-20m'],\n",
       " ['objects', 'missed', 'closest', 'at', 'left', 'back', '10-20m'],\n",
       " ['objects', 'missed', 'closest', 'at', 'left', 'back', '10-20m']]"
      ]
     },
     "execution_count": 8,
     "metadata": {},
     "output_type": "execute_result"
    }
   ],
   "source": [
    "items = list(map(lambda x: x.split(\" \"), captions))\n",
    "print(len(items))\n",
    "items[:5]"
   ]
  },
  {
   "cell_type": "code",
   "execution_count": 13,
   "metadata": {},
   "outputs": [
    {
     "data": {
      "text/plain": [
       "31845"
      ]
     },
     "execution_count": 13,
     "metadata": {},
     "output_type": "execute_result"
    }
   ],
   "source": [
    "error_clases = list(filter(lambda x: \"no\" not in x, items))\n",
    "len(error_clases)"
   ]
  },
  {
   "cell_type": "code",
   "execution_count": 10,
   "metadata": {},
   "outputs": [
    {
     "data": {
      "text/plain": [
       "[['right', 'front', '10-20m'],\n",
       " ['left', 'front', '10-20m'],\n",
       " ['right', 'front', '10-20m'],\n",
       " ['left', 'back', '10-20m'],\n",
       " ['left', 'back', '10-20m']]"
      ]
     },
     "execution_count": 10,
     "metadata": {},
     "output_type": "execute_result"
    }
   ],
   "source": [
    "labels_only = list(map(lambda x: x[4:], clases))\n",
    "labels_only[:5]"
   ]
  },
  {
   "cell_type": "code",
   "execution_count": 11,
   "metadata": {},
   "outputs": [
    {
     "data": {
      "text/html": [
       "<div>\n",
       "<style scoped>\n",
       "    .dataframe tbody tr th:only-of-type {\n",
       "        vertical-align: middle;\n",
       "    }\n",
       "\n",
       "    .dataframe tbody tr th {\n",
       "        vertical-align: top;\n",
       "    }\n",
       "\n",
       "    .dataframe thead th {\n",
       "        text-align: right;\n",
       "    }\n",
       "</style>\n",
       "<table border=\"1\" class=\"dataframe\">\n",
       "  <thead>\n",
       "    <tr style=\"text-align: right;\">\n",
       "      <th></th>\n",
       "      <th>0</th>\n",
       "      <th>1</th>\n",
       "      <th>2</th>\n",
       "    </tr>\n",
       "  </thead>\n",
       "  <tbody>\n",
       "    <tr>\n",
       "      <th>0</th>\n",
       "      <td>right</td>\n",
       "      <td>front</td>\n",
       "      <td>10-20m</td>\n",
       "    </tr>\n",
       "    <tr>\n",
       "      <th>1</th>\n",
       "      <td>left</td>\n",
       "      <td>front</td>\n",
       "      <td>10-20m</td>\n",
       "    </tr>\n",
       "    <tr>\n",
       "      <th>2</th>\n",
       "      <td>right</td>\n",
       "      <td>front</td>\n",
       "      <td>10-20m</td>\n",
       "    </tr>\n",
       "    <tr>\n",
       "      <th>3</th>\n",
       "      <td>left</td>\n",
       "      <td>back</td>\n",
       "      <td>10-20m</td>\n",
       "    </tr>\n",
       "    <tr>\n",
       "      <th>4</th>\n",
       "      <td>left</td>\n",
       "      <td>back</td>\n",
       "      <td>10-20m</td>\n",
       "    </tr>\n",
       "  </tbody>\n",
       "</table>\n",
       "</div>"
      ],
      "text/plain": [
       "       0      1       2\n",
       "0  right  front  10-20m\n",
       "1   left  front  10-20m\n",
       "2  right  front  10-20m\n",
       "3   left   back  10-20m\n",
       "4   left   back  10-20m"
      ]
     },
     "execution_count": 11,
     "metadata": {},
     "output_type": "execute_result"
    }
   ],
   "source": [
    "df = pd.DataFrame(labels_only)\n",
    "df.head()\n"
   ]
  },
  {
   "cell_type": "code",
   "execution_count": 12,
   "metadata": {},
   "outputs": [],
   "source": [
    "DETECTION_TYPE_DICT = { # x2 detection types\n",
    "                      'no object detections missed': 0, \n",
    "                      'objects missed closest at': 1\n",
    "                      }\n",
    "\n",
    "NON_DETECTION_PHRASE = 'objects missed closest at' # used to split caption\n",
    "\n",
    "LOC_LONG_DICT = { # x2 longitudinal types\n",
    "                'front': 0,\n",
    "                'back': 1\n",
    "                }\n",
    "\n",
    "LOC_LAT_DICT = { # x2 lateral types\n",
    "                'left': 0,\n",
    "                'right': 1\n",
    "                }\n",
    "\n",
    "DIST_DICT = {\n",
    "            '<5m': 0,\n",
    "            '5-10m': 1,\n",
    "            '10-20m': 2,\n",
    "            '20-40m':3,\n",
    "            '40-80m': 4,\n",
    "            '>80m': 5,\n",
    "            }\n",
    "## nuscenes_detect_long_v4"
   ]
  },
  {
   "cell_type": "code",
   "execution_count": 75,
   "metadata": {},
   "outputs": [
    {
     "data": {
      "text/html": [
       "<div>\n",
       "<style scoped>\n",
       "    .dataframe tbody tr th:only-of-type {\n",
       "        vertical-align: middle;\n",
       "    }\n",
       "\n",
       "    .dataframe tbody tr th {\n",
       "        vertical-align: top;\n",
       "    }\n",
       "\n",
       "    .dataframe thead th {\n",
       "        text-align: right;\n",
       "    }\n",
       "</style>\n",
       "<table border=\"1\" class=\"dataframe\">\n",
       "  <thead>\n",
       "    <tr style=\"text-align: right;\">\n",
       "      <th></th>\n",
       "      <th>0</th>\n",
       "      <th>1</th>\n",
       "      <th>2</th>\n",
       "    </tr>\n",
       "  </thead>\n",
       "  <tbody>\n",
       "    <tr>\n",
       "      <th>0</th>\n",
       "      <td>1</td>\n",
       "      <td>0</td>\n",
       "      <td>2</td>\n",
       "    </tr>\n",
       "    <tr>\n",
       "      <th>1</th>\n",
       "      <td>0</td>\n",
       "      <td>0</td>\n",
       "      <td>2</td>\n",
       "    </tr>\n",
       "    <tr>\n",
       "      <th>2</th>\n",
       "      <td>1</td>\n",
       "      <td>0</td>\n",
       "      <td>2</td>\n",
       "    </tr>\n",
       "    <tr>\n",
       "      <th>3</th>\n",
       "      <td>0</td>\n",
       "      <td>1</td>\n",
       "      <td>2</td>\n",
       "    </tr>\n",
       "    <tr>\n",
       "      <th>4</th>\n",
       "      <td>0</td>\n",
       "      <td>1</td>\n",
       "      <td>2</td>\n",
       "    </tr>\n",
       "  </tbody>\n",
       "</table>\n",
       "</div>"
      ],
      "text/plain": [
       "   0  1  2\n",
       "0  1  0  2\n",
       "1  0  0  2\n",
       "2  1  0  2\n",
       "3  0  1  2\n",
       "4  0  1  2"
      ]
     },
     "execution_count": 75,
     "metadata": {},
     "output_type": "execute_result"
    }
   ],
   "source": [
    "df[0] = df[0].replace(LOC_LAT_DICT)\n",
    "df[1] = df[1].replace(LOC_LONG_DICT)\n",
    "df[2] = df[2].replace(DIST_DICT)\n",
    "df.head()"
   ]
  },
  {
   "cell_type": "code",
   "execution_count": 78,
   "metadata": {},
   "outputs": [
    {
     "data": {
      "text/plain": [
       "11018"
      ]
     },
     "execution_count": 78,
     "metadata": {},
     "output_type": "execute_result"
    }
   ],
   "source": [
    "#plot histogram of each column\n",
    "(df[2] > 2).sum()"
   ]
  },
  {
   "cell_type": "code",
   "execution_count": 82,
   "metadata": {},
   "outputs": [
    {
     "data": {
      "text/plain": [
       "<matplotlib.axes._subplots.AxesSubplot at 0x7f76a2d10760>"
      ]
     },
     "execution_count": 82,
     "metadata": {},
     "output_type": "execute_result"
    },
    {
     "data": {
      "image/png": "[encoded data removed]",
      "text/plain": [
       "<Figure size 640x480 with 1 Axes>"
      ]
     },
     "metadata": {},
     "output_type": "display_data"
    }
   ],
   "source": [
    "df[df[2]<3][1].hist()"
   ]
  },
  {
   "cell_type": "code",
   "execution_count": 83,
   "metadata": {},
   "outputs": [
    {
     "data": {
      "text/plain": [
       "<matplotlib.axes._subplots.AxesSubplot at 0x7f76a2cf8ee0>"
      ]
     },
     "execution_count": 83,
     "metadata": {},
     "output_type": "execute_result"
    },
    {
     "data": {
      "image/png": "[encoded data removed]",
      "text/plain": [
       "<Figure size 640x480 with 1 Axes>"
      ]
     },
     "metadata": {},
     "output_type": "display_data"
    }
   ],
   "source": [
    "df[df[2]>3][1].hist()"
   ]
  }
 ],
 "metadata": {
  "kernelspec": {
   "display_name": "openmmlab2",
   "language": "python",
   "name": "python3"
  },
  "language_info": {
   "codemirror_mode": {
    "name": "ipython",
    "version": 3
   },
   "file_extension": ".py",
   "mimetype": "text/x-python",
   "name": "python",
   "nbconvert_exporter": "python",
   "pygments_lexer": "ipython3",
   "version": "3.9.undefined"
  }
 },
 "nbformat": 4,
 "nbformat_minor": 2
}
