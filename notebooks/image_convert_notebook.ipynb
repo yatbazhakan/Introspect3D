{
 "cells": [
  {
   "cell_type": "code",
   "execution_count": 1,
   "metadata": {},
   "outputs": [],
   "source": [
    "import os\n",
    "from glob import glob\n",
    "import cv2\n",
    "import numpy as np\n",
    "import matplotlib.pyplot as plt\n"
   ]
  },
  {
   "cell_type": "code",
   "execution_count": 5,
   "metadata": {},
   "outputs": [],
   "source": [
    "pth = r\"G:\\HYY\\Motorway\\Rainy\\run1_2024-05-16-13-36-20\"\n",
    "front = \"front_camera\"\n",
    "rear = \"rear_camera\"\n",
    "\n",
    "front_pth = os.path.join(pth, front)\n",
    "rear_pth = os.path.join(pth, rear)\n",
    "\n",
    "front_img=np.load(os.path.join(front_pth, \"20240516_133942.npy\"))\n",
    "rear_img=np.load(os.path.join(rear_pth, \"20240516_133942.npy\"))\n",
    "\n",
    "\n",
    "\n",
    "front_img = cv2.imwrite(os.path.join(r\"C:\\Users\\yatba\\Desktop\\shared\", \"20240516_133942_f.png\"), front_img)\n",
    "rear_img = cv2.imwrite(os.path.join(r\"C:\\Users\\yatba\\Desktop\\shared\", \"20240516_133942_r.png\"), rear_img)"
   ]
  }
 ],
 "metadata": {
  "kernelspec": {
   "display_name": "introspection",
   "language": "python",
   "name": "python3"
  },
  "language_info": {
   "codemirror_mode": {
    "name": "ipython",
    "version": 3
   },
   "file_extension": ".py",
   "mimetype": "text/x-python",
   "name": "python",
   "nbconvert_exporter": "python",
   "pygments_lexer": "ipython3",
   "version": "3.9.16"
  }
 },
 "nbformat": 4,
 "nbformat_minor": 2
}
