{
 "cells": [
  {
   "cell_type": "markdown",
   "metadata": {},
   "source": []
  },
  {
   "cell_type": "code",
   "execution_count": 1,
   "metadata": {},
   "outputs": [],
   "source": [
    "import torch\n",
    "import torch.nn as nn\n",
    "import torch.nn.functional as F\n",
    "import torch.optim as optim\n",
    "import numpy as np\n",
    "from glob import glob\n",
    "import os\n"
   ]
  },
  {
   "cell_type": "code",
   "execution_count": 2,
   "metadata": {},
   "outputs": [
    {
     "data": {
      "text/plain": [
       "1321"
      ]
     },
     "execution_count": 2,
     "metadata": {},
     "output_type": "execute_result"
    }
   ],
   "source": [
    "ckpts_dir = './outputs/ckpts'\n",
    "existing_ckpts = glob(os.path.join(ckpts_dir, '*.pth'))\n",
    "len(existing_ckpts)"
   ]
  },
  {
   "cell_type": "code",
   "execution_count": 4,
   "metadata": {},
   "outputs": [
    {
     "name": "stdout",
     "output_type": "stream",
     "text": [
      "['./outputs/ckpts/point_pillar_kitti_activations.pt', './outputs/ckpts/point_pillar_kitti_activations_raw_all_raw.pt', './outputs/ckpts/point_pillar_kitti_activations_raw_filtered_losslog.pt', './outputs/ckpts/point_pillar_kitti_activations_gap_all_raw_fcs.pt', './outputs/ckpts/point_pillar_kitti_activations_raw_filtered_atccustom.pt', './outputs/ckpts/point_pillar_kitti_activations_sf_filtered.pt', './outputs/ckpts/centerpoint_nus_activations_filtered_raw.pt', './outputs/ckpts/centerpoint_nus_activations_filtered_sf.pt', './outputs/ckpts/point_pillar_kitti_activations_ash_filtered.pt', './outputs/ckpts/point_pillar_kitti_activations_raw_filtered_at2.pt', './outputs/ckpts/point_pillar_kitti_activations_raw_filtered.pt', './outputs/ckpts/point_pillar_kitti_activations_sf.pt', './outputs/ckpts/point_pillar_kitti_activations_ash_all.pt', './outputs/ckpts/centerpoint_nus_activations_raw_filtered_attention.pt', './outputs/ckpts/point_pillar_kitti_activations_raw_filtered_atc.pt', './outputs/ckpts/point_pillar_kitti_activations_raw_all_scr.pt', './outputs/ckpts/centerpoint_nus_activations_sf.pt', './outputs/ckpts/point_pillar_kitti_activations_sf_raw.pt', './outputs/ckpts/point_pillar_kitti_activations_raw_all.pt', './outputs/ckpts/point_pillar_kitti_activations_raw_all_logits.pt', './outputs/ckpts/point_pillar_kitti_activations_vdna_all.pt', './outputs/ckpts/point_pillar_kitti_activations_raw_filtered_lr.pt', './outputs/ckpts/point_pillar_kitti_activations_ashpn6_filtered.pt', './outputs/ckpts/point_pillar_kitti_activations_sf_all.pt', './outputs/ckpts/point_pillar_kitti_activations_raw_all_raw_fcs.pt', './outputs/ckpts/centerpoint_nus_activations_raw.pt', './outputs/ckpts/centerpoint_nus_activations_raw_filteredds.pt', './outputs/ckpts/point_pillar_kitti_activations_ashpn_filtered.pt', './outputs/ckpts/point_pillar_kitti_activations_raw_filtered_lr2.pt', './outputs/ckpts/centerpoint_nus_activations_filtered_raw_my.pt']\n"
     ]
    }
   ],
   "source": [
    "existing_pts = glob(os.path.join(ckpts_dir, '*.pt'))\n",
    "print(existing_pts)"
   ]
  },
  {
   "cell_type": "code",
   "execution_count": 5,
   "metadata": {},
   "outputs": [
    {
     "data": {
      "text/plain": [
       "64"
      ]
     },
     "execution_count": 5,
     "metadata": {},
     "output_type": "execute_result"
    }
   ],
   "source": [
    "centerpoint_ckpts = list(filter(lambda x: 'centerpoint' in x or 'nus' in x, existing_ckpts))\n",
    "len(centerpoint_ckpts)"
   ]
  },
  {
   "cell_type": "code",
   "execution_count": 6,
   "metadata": {},
   "outputs": [
    {
     "name": "stdout",
     "output_type": "stream",
     "text": [
      "['nuscenes_none_resnet18_fcn_indv_multi066a539a-c6a2-48b5-befb-dcd807fee1940_Ep18.pth',\n",
      " 'nuscenes_none_resnet18_fcn_raw5ac73d5e-fe5e-45dc-b72f-d06971fc18470_Ep13.pth',\n",
      " 'nuscenes_none_resnet18_fcn_raw5ac73d5e-fe5e-45dc-b72f-d06971fc18470__best.pth',\n",
      " 'nuscenes_none_resnet18_fcn_multr_efs0.pth',\n",
      " 'nuscenes_none_resnet18_fcn_indv_multi066a539a-c6a2-48b5-befb-dcd807fee1940_Ep10.pth',\n",
      " 'nuscenes_none_resnet18_fcn_mult_c_efm790826b1-cec6-4c8b-b611-fcbe1eb9fd930_Ep3.pth',\n",
      " 'nuscenes_none_resnet18_fcn_raw0.pth',\n",
      " 'nuscenes_none_resnet18_fcn_mult_c_efm790826b1-cec6-4c8b-b611-fcbe1eb9fd930_Ep2.pth',\n",
      " 'nuscenes_none_resnet18_fcn_raw5ac73d5e-fe5e-45dc-b72f-d06971fc18470_Ep4.pth',\n",
      " 'nuscenes_none_resnet18_fcn_indv_multi066a539a-c6a2-48b5-befb-dcd807fee1940_Ep11.pth',\n",
      " 'nuscenes_none_resnet18_fcn_mult_c_efm790826b1-cec6-4c8b-b611-fcbe1eb9fd930_Ep0.pth',\n",
      " 'nuscenes_none_resnet18_fcn_mult_c_efm790826b1-cec6-4c8b-b611-fcbe1eb9fd930_Ep8.pth',\n",
      " 'nuscenes_none_resnet18_fcn_indv_raw0.pth',\n",
      " 'nuscenes_none_resnet18_fcn_indv_multi066a539a-c6a2-48b5-befb-dcd807fee1940_Ep3.pth',\n",
      " 'nuscenes_none_resnet18_fcn_mult_c_efm790826b1-cec6-4c8b-b611-fcbe1eb9fd930_Ep6.pth',\n",
      " 'nuscenes_none_resnet18_fcn_indv_multi066a539a-c6a2-48b5-befb-dcd807fee1940__best.pth',\n",
      " 'nuscenes_none_resnet18_fcn2_raw578eec05-497a-4d4d-9a7e-20498e2969230_Ep0.pth',\n",
      " 'nuscenes_none_resnet18_fcn_indv_multi066a539a-c6a2-48b5-befb-dcd807fee1940_Ep6.pth',\n",
      " 'nuscenes_none_resnet18_fcn2_raw578eec05-497a-4d4d-9a7e-20498e2969230_Ep14.pth',\n",
      " 'nuscenes_none_resnet18_fcn_raw5ac73d5e-fe5e-45dc-b72f-d06971fc18470_Ep11.pth',\n",
      " 'nuscenes_none_resnet18_fcn_mult_c_efm790826b1-cec6-4c8b-b611-fcbe1eb9fd930_Ep11.pth',\n",
      " 'nuscenes_none_resnet18_fcn_indv_multif54de25b-ae0b-4d2f-8c82-867e631e1ff00_Ep0.pth',\n",
      " 'nuscenes_none_resnet18_fcn_indv_multi066a539a-c6a2-48b5-befb-dcd807fee1940_Ep9.pth',\n",
      " 'nuscenes_none_resnet18_fcn_raw5ac73d5e-fe5e-45dc-b72f-d06971fc18470_Ep6.pth',\n",
      " 'nuscenes_none_resnet18_fcn_indv_multi066a539a-c6a2-48b5-befb-dcd807fee1940_Ep16.pth',\n",
      " 'nuscenes_none_resnet18_fcn_raw5ac73d5e-fe5e-45dc-b72f-d06971fc18470_Ep1.pth',\n",
      " 'nuscenes_none_resnet18_fcn_indv_multi066a539a-c6a2-48b5-befb-dcd807fee1940_Ep1.pth',\n",
      " 'nuscenes_none_resnet18_fcn_raw5ac73d5e-fe5e-45dc-b72f-d06971fc18470_Ep5.pth',\n",
      " 'nuscenes_none_resnet18_fcn_indv_multi066a539a-c6a2-48b5-befb-dcd807fee1940_Ep15.pth',\n",
      " 'nuscenes_none_resnet18_fcn2_raw578eec05-497a-4d4d-9a7e-20498e2969230_Ep10.pth',\n",
      " 'nuscenes_none_resnet18_fcn_mult_c_efm0.pth',\n",
      " 'nuscenes_none_resnet18_fcn_indv_multi066a539a-c6a2-48b5-befb-dcd807fee1940_Ep19.pth',\n",
      " 'nuscenes_none_resnet18_fcn_indv_multi066a539a-c6a2-48b5-befb-dcd807fee1940_Ep5.pth',\n",
      " 'nuscenes_none_resnet18_fcn_indv_multif54de25b-ae0b-4d2f-8c82-867e631e1ff00__best.pth',\n",
      " 'nuscenes_none_resnet18_fcn2_raw0.pth',\n",
      " 'nuscenes_none_resnet18_fcn_raw5ac73d5e-fe5e-45dc-b72f-d06971fc18470_Ep0.pth',\n",
      " 'nuscenes_none_resnet18_fcn2_raw578eec05-497a-4d4d-9a7e-20498e2969230_Ep8.pth',\n",
      " 'nuscenes_none_resnet18_fcn2_raw578eec05-497a-4d4d-9a7e-20498e2969230_Ep11.pth',\n",
      " 'nuscenes_none_resnet18_fcn_indv_multi066a539a-c6a2-48b5-befb-dcd807fee1940_Ep0.pth',\n",
      " 'nuscenes_none_resnet18_fcn_mult_c_efm790826b1-cec6-4c8b-b611-fcbe1eb9fd930_Ep10.pth',\n",
      " 'nuscenes_none_resnet18_fcn_indv_multi066a539a-c6a2-48b5-befb-dcd807fee1940_Ep12.pth',\n",
      " 'nuscenes_none_resnet18_fcn_indv_multi066a539a-c6a2-48b5-befb-dcd807fee1940_Ep2.pth',\n",
      " 'nuscenes_none_resnet18_fcn_mult_c_efm790826b1-cec6-4c8b-b611-fcbe1eb9fd930_Ep7.pth',\n",
      " 'nuscenes_none_resnet18_fcn_indv2_raw0.pth',\n",
      " 'nuscenes_none_resnet18_fcn_mult_multi0.pth',\n",
      " 'nuscenes_none_resnet18_fcn_indv_multi066a539a-c6a2-48b5-befb-dcd807fee1940_Ep8.pth',\n",
      " 'nuscenes_none_resnet18_fcn_multr_multi0.pth',\n",
      " 'nuscenes_none_resnet18_fcn_mult_c_efm790826b1-cec6-4c8b-b611-fcbe1eb9fd930_Ep4.pth',\n",
      " 'nuscenes_none_resnet18_fcn_vis_multi0.pth',\n",
      " 'nuscenes_none_resnet18_fcn_mult_c_efm790826b1-cec6-4c8b-b611-fcbe1eb9fd930_Ep1.pth',\n",
      " 'nuscenes_none_resnet18_fcn_indv_multi066a539a-c6a2-48b5-befb-dcd807fee1940_Ep4.pth',\n",
      " 'nuscenes_none_resnet18_fcn_raw5ac73d5e-fe5e-45dc-b72f-d06971fc18470_Ep9.pth',\n",
      " 'nuscenes_none_resnet18_fcn_mult_c_efm790826b1-cec6-4c8b-b611-fcbe1eb9fd930_Ep5.pth',\n",
      " 'nuscenes_none_resnet18_fcn_indv_multi066a539a-c6a2-48b5-befb-dcd807fee1940_Ep14.pth',\n",
      " 'nuscenes_none_resnet18_fcn_raw5ac73d5e-fe5e-45dc-b72f-d06971fc18470_Ep15.pth',\n",
      " 'nuscenes_none_resnet18_fcn2_raw578eec05-497a-4d4d-9a7e-20498e2969230_Ep7.pth',\n",
      " 'nuscenes_none_resnet18_fcn_mult_c_efm790826b1-cec6-4c8b-b611-fcbe1eb9fd930__best.pth',\n",
      " 'nuscenes_none_resnet18_fcn2_raw578eec05-497a-4d4d-9a7e-20498e2969230_Ep16.pth',\n",
      " 'nuscenes_none_resnet18_fcn_indv_multi066a539a-c6a2-48b5-befb-dcd807fee1940_Ep7.pth',\n",
      " 'nuscenes_none_resnet18_fcn_mult_c_efm790826b1-cec6-4c8b-b611-fcbe1eb9fd930_Ep9.pth',\n",
      " 'nuscenes_none_resnet18_fcn_indv_multi066a539a-c6a2-48b5-befb-dcd807fee1940_Ep13.pth',\n",
      " 'nuscenes_none_resnet18_fcn_raw5ac73d5e-fe5e-45dc-b72f-d06971fc18470_Ep8.pth',\n",
      " 'nuscenes_none_resnet18_fcn2_raw578eec05-497a-4d4d-9a7e-20498e2969230__best.pth',\n",
      " 'nuscenes_none_resnet18_fcn_raw5ac73d5e-fe5e-45dc-b72f-d06971fc18470_Ep7.pth']\n"
     ]
    }
   ],
   "source": [
    "only_files = [os.path.basename(x) for x in centerpoint_ckpts]\n",
    "from pprint import pprint\n",
    "pprint(only_files)"
   ]
  },
  {
   "cell_type": "code",
   "execution_count": 7,
   "metadata": {},
   "outputs": [
    {
     "name": "stdout",
     "output_type": "stream",
     "text": [
      "['./outputs/ckpts/nuscenes_none_resnet18_fcn_raw5ac73d5e-fe5e-45dc-b72f-d06971fc18470__best.pth',\n",
      " './outputs/ckpts/nuscenes_none_resnet18_fcn_indv_multi066a539a-c6a2-48b5-befb-dcd807fee1940__best.pth',\n",
      " './outputs/ckpts/nuscenes_none_resnet18_fcn_indv_multif54de25b-ae0b-4d2f-8c82-867e631e1ff00__best.pth',\n",
      " './outputs/ckpts/nuscenes_none_resnet18_fcn_mult_c_efm790826b1-cec6-4c8b-b611-fcbe1eb9fd930__best.pth',\n",
      " './outputs/ckpts/nuscenes_none_resnet18_fcn2_raw578eec05-497a-4d4d-9a7e-20498e2969230__best.pth']\n"
     ]
    }
   ],
   "source": [
    "best_ckpts = list(filter(lambda x: 'best' in x, centerpoint_ckpts))\n",
    "pprint(best_ckpts)"
   ]
  },
  {
   "cell_type": "code",
   "execution_count": 8,
   "metadata": {},
   "outputs": [
    {
     "name": "stdout",
     "output_type": "stream",
     "text": [
      "7\n"
     ]
    },
    {
     "data": {
      "text/html": [
       "<div>\n",
       "<style scoped>\n",
       "    .dataframe tbody tr th:only-of-type {\n",
       "        vertical-align: middle;\n",
       "    }\n",
       "\n",
       "    .dataframe tbody tr th {\n",
       "        vertical-align: top;\n",
       "    }\n",
       "\n",
       "    .dataframe thead th {\n",
       "        text-align: right;\n",
       "    }\n",
       "</style>\n",
       "<table border=\"1\" class=\"dataframe\">\n",
       "  <thead>\n",
       "    <tr style=\"text-align: right;\">\n",
       "      <th></th>\n",
       "      <th>ckpt</th>\n",
       "      <th>input_shape</th>\n",
       "    </tr>\n",
       "  </thead>\n",
       "  <tbody>\n",
       "    <tr>\n",
       "      <th>0</th>\n",
       "      <td>centerpoint_nus_activations_filtered_raw.pt</td>\n",
       "      <td>(256, 256, 3, 3)</td>\n",
       "    </tr>\n",
       "    <tr>\n",
       "      <th>1</th>\n",
       "      <td>centerpoint_nus_activations_filtered_sf.pt</td>\n",
       "      <td>(256, 768)</td>\n",
       "    </tr>\n",
       "    <tr>\n",
       "      <th>2</th>\n",
       "      <td>centerpoint_nus_activations_raw_filtered_atten...</td>\n",
       "      <td>(16, 256, 1, 1)</td>\n",
       "    </tr>\n",
       "    <tr>\n",
       "      <th>3</th>\n",
       "      <td>centerpoint_nus_activations_sf.pt</td>\n",
       "      <td>(256, 768)</td>\n",
       "    </tr>\n",
       "    <tr>\n",
       "      <th>4</th>\n",
       "      <td>centerpoint_nus_activations_raw.pt</td>\n",
       "      <td>(256, 768)</td>\n",
       "    </tr>\n",
       "    <tr>\n",
       "      <th>5</th>\n",
       "      <td>centerpoint_nus_activations_raw_filteredds.pt</td>\n",
       "      <td>(64, 256, 7, 7)</td>\n",
       "    </tr>\n",
       "    <tr>\n",
       "      <th>6</th>\n",
       "      <td>centerpoint_nus_activations_filtered_raw_my.pt</td>\n",
       "      <td>(128, 256, 1, 1)</td>\n",
       "    </tr>\n",
       "  </tbody>\n",
       "</table>\n",
       "</div>"
      ],
      "text/plain": [
       "                                                ckpt       input_shape\n",
       "0        centerpoint_nus_activations_filtered_raw.pt  (256, 256, 3, 3)\n",
       "1         centerpoint_nus_activations_filtered_sf.pt        (256, 768)\n",
       "2  centerpoint_nus_activations_raw_filtered_atten...   (16, 256, 1, 1)\n",
       "3                  centerpoint_nus_activations_sf.pt        (256, 768)\n",
       "4                 centerpoint_nus_activations_raw.pt        (256, 768)\n",
       "5      centerpoint_nus_activations_raw_filteredds.pt   (64, 256, 7, 7)\n",
       "6     centerpoint_nus_activations_filtered_raw_my.pt  (128, 256, 1, 1)"
      ]
     },
     "execution_count": 8,
     "metadata": {},
     "output_type": "execute_result"
    }
   ],
   "source": [
    "import pandas as pd\n",
    "df_pt = pd.DataFrame(columns=['ckpt', 'input_shape'])\n",
    "centerpoint_pts = list(filter(lambda x: 'centerpoint' in x, existing_pts))\n",
    "print(len(centerpoint_pts))\n",
    "for ckpt in centerpoint_pts:\n",
    "        state_dict = torch.load(ckpt)\n",
    "        for key, value in state_dict.items():\n",
    "                names= ckpt.split('/')[-1]\n",
    "                temp = pd.DataFrame([[names, value.shape]], columns=['ckpt', 'input_shape'])\n",
    "                df_pt = pd.concat([df_pt, temp], ignore_index=True)\n",
    "                break\n",
    "df_pt"
   ]
  },
  {
   "cell_type": "code",
   "execution_count": 9,
   "metadata": {},
   "outputs": [
    {
     "data": {
      "text/html": [
       "<div>\n",
       "<style scoped>\n",
       "    .dataframe tbody tr th:only-of-type {\n",
       "        vertical-align: middle;\n",
       "    }\n",
       "\n",
       "    .dataframe tbody tr th {\n",
       "        vertical-align: top;\n",
       "    }\n",
       "\n",
       "    .dataframe thead th {\n",
       "        text-align: right;\n",
       "    }\n",
       "</style>\n",
       "<table border=\"1\" class=\"dataframe\">\n",
       "  <thead>\n",
       "    <tr style=\"text-align: right;\">\n",
       "      <th></th>\n",
       "      <th>ckpt</th>\n",
       "      <th>input_shape</th>\n",
       "    </tr>\n",
       "  </thead>\n",
       "  <tbody>\n",
       "  </tbody>\n",
       "</table>\n",
       "</div>"
      ],
      "text/plain": [
       "Empty DataFrame\n",
       "Columns: [ckpt, input_shape]\n",
       "Index: []"
      ]
     },
     "execution_count": 9,
     "metadata": {},
     "output_type": "execute_result"
    }
   ],
   "source": [
    "import pandas as pd\n",
    "df = pd.DataFrame(columns=['ckpt', 'input_shape'])\n",
    "for ckpt in centerpoint_ckpts:\n",
    "        state_dict = torch.load(ckpt)\n",
    "        for key, value in state_dict.items():\n",
    "                names= ckpt.split('/')[-1]\n",
    "                temp = pd.DataFrame([[names, value.shape]], columns=['ckpt', 'input_shape'])\n",
    "                df_pt = pd.concat([df_pt, temp], ignore_index=True)\n",
    "                break\n",
    "df.head()"
   ]
  },
  {
   "cell_type": "code",
   "execution_count": 13,
   "metadata": {},
   "outputs": [],
   "source": [
    "df.to_csv('centerpoint_ckpts.csv', index=False)"
   ]
  },
  {
   "cell_type": "code",
   "execution_count": 12,
   "metadata": {},
   "outputs": [
    {
     "name": "stdout",
     "output_type": "stream",
     "text": [
      "Loading model yaml\n",
      "/mnt/ssd2/Introspect3D/configs/networks/resnet18_fcn.yaml\n",
      "Model yaml loaded\n",
      "Loading model yaml\n",
      "/mnt/ssd2/Introspect3D/configs/networks/resnet18_fcn.yaml\n",
      "Model yaml loaded\n",
      "Number of features found:  937  in  ['/mnt/ssd2/custom_dataset/vehicle_centerpoint_activations_aggregated_raw/features/20240430_100159', '/mnt/ssd2/custom_dataset/vehicle_centerpoint_activations_aggregated_raw/features/20240430_100201', '/mnt/ssd2/custom_dataset/vehicle_centerpoint_activations_aggregated_raw/features/20240430_100203', '/mnt/ssd2/custom_dataset/vehicle_centerpoint_activations_aggregated_raw/features/20240430_100205', '/mnt/ssd2/custom_dataset/vehicle_centerpoint_activations_aggregated_raw/features/20240430_100207']\n",
      "Threshold is  None\n",
      "937 937\n"
     ]
    },
    {
     "data": {
      "application/vnd.jupyter.widget-view+json": {
       "model_id": "a1448c99b10a4302a6ce05fd39123bf2",
       "version_major": 2,
       "version_minor": 0
      },
      "text/plain": [
       "  0%|          | 0/937 [00:00<?, ?it/s]"
      ]
     },
     "metadata": {},
     "output_type": "display_data"
    }
   ],
   "source": [
    "from datasets.activation_dataset import ActivationDataset\n",
    "import numpy as np\n",
    "from modules import *\n",
    "from utils.utils import generate_model_from_config\n",
    "import torch\n",
    "import torch.nn as nn\n",
    "from modules.custom_networks import GenericInjection\n",
    "import pandas as pd\n",
    "from utils.process import *\n",
    "config = {\n",
    "      'root_dir': '/mnt/ssd2/custom_dataset/vehicle_centerpoint_activations_aggregated_raw/',\n",
    "      'label_file': 'vehicle_centerpoint_labels_aggregated_raw_filtered.csv',\n",
    "      'classes': ['No Error', 'Error'],\n",
    "      'label_field': 'is_missed',\n",
    "      'layer': [0,1,2], #1 , #\n",
    "      'is_multi_feature':True,#  False,#\n",
    "      'name': 'custom'}\n",
    "# config={\n",
    "#       'root_dir': '/mnt/ssd2/custom_dataset/nus_centerpoint_activations_filtered_all/',\n",
    "#       'label_file': 'nus_centerpoint_labels_filtered_all.csv',\n",
    "#       'classes': ['No Error', 'Error'],\n",
    "#       'label_field': 'is_missed',\n",
    "#       'layer': 0,\n",
    "#       'is_multi_feature': False,\n",
    "#       'name': 'nuscenes'\n",
    "#       }\n",
    "# preds = pd.DataFrame(columns=['filename','pred','label'])\n",
    "\n",
    "processor = MultiFeatureActivationEarlyFused({})\n",
    "\n",
    "model_config = {'layer_config': 'configs/networks/resnet18_fcn.yaml'}#\n",
    "# model_config = {'layer_config': 'configs/networks/resnet18_fcn_mult_c.yaml'}#\n",
    "# model_load_from = \"/home/yatbaz_h@WMGDS.WMG.WARWICK.AC.UK/nuscenes_filtered_early_best.pth\"\n",
    "ckpts_dir = './outputs/ckpts'\n",
    "model_load_from = os.path.join(ckpts_dir, 'nuscenes_none_resnet18_fcn_vis_multi0.pth')\n",
    "model = generate_model_from_config(model_config)\n",
    "model = GenericInjection(model_config)\n",
    "# model.load_state_dict(torch.load(model_load_from))\n",
    "dataset = ActivationDataset(config)\n",
    "model.to('cuda:0')\n",
    "preds = pd.DataFrame(columns=['filename','pred','label'])\n",
    "\n",
    "from tqdm.auto import tqdm\n",
    "with tqdm(total=len(dataset)) as pbar:\n",
    "    for i,data in enumerate(dataset):\n",
    "        tensor,label, meta = data\n",
    "\n",
    "        # tensor = tensor.to('cuda:0').unsqueeze(0)\n",
    "        tensor = [t.unsqueeze(0).to('cuda:0') for t in tensor]\n",
    "        # tensor = processor.process(activation = tensor, stack =True)\n",
    "        res = model(tensor)\n",
    "        #softmaxed:\n",
    "        res = nn.functional.softmax(res, dim=1)\n",
    "        pred = torch.argmax(res)\n",
    "        # preds.append({'pred':pred.item(),'label':label.item()})\n",
    "        pbar.update(1)\n",
    "        temp_df = pd.DataFrame({'filename':meta,'pred':pred.item(),'label':label.item()},index=[0])\n",
    "        preds = pd.concat([preds,temp_df])\n",
    "\n",
    "# print"
   ]
  },
  {
   "cell_type": "code",
   "execution_count": 13,
   "metadata": {},
   "outputs": [
    {
     "data": {
      "text/html": [
       "<div>\n",
       "<style scoped>\n",
       "    .dataframe tbody tr th:only-of-type {\n",
       "        vertical-align: middle;\n",
       "    }\n",
       "\n",
       "    .dataframe tbody tr th {\n",
       "        vertical-align: top;\n",
       "    }\n",
       "\n",
       "    .dataframe thead th {\n",
       "        text-align: right;\n",
       "    }\n",
       "</style>\n",
       "<table border=\"1\" class=\"dataframe\">\n",
       "  <thead>\n",
       "    <tr style=\"text-align: right;\">\n",
       "      <th></th>\n",
       "      <th>filename</th>\n",
       "      <th>pred</th>\n",
       "      <th>label</th>\n",
       "    </tr>\n",
       "  </thead>\n",
       "  <tbody>\n",
       "    <tr>\n",
       "      <th>0</th>\n",
       "      <td>20240430_100159</td>\n",
       "      <td>1</td>\n",
       "      <td>1</td>\n",
       "    </tr>\n",
       "    <tr>\n",
       "      <th>0</th>\n",
       "      <td>20240430_100201</td>\n",
       "      <td>1</td>\n",
       "      <td>0</td>\n",
       "    </tr>\n",
       "    <tr>\n",
       "      <th>0</th>\n",
       "      <td>20240430_100203</td>\n",
       "      <td>0</td>\n",
       "      <td>0</td>\n",
       "    </tr>\n",
       "    <tr>\n",
       "      <th>0</th>\n",
       "      <td>20240430_100205</td>\n",
       "      <td>1</td>\n",
       "      <td>0</td>\n",
       "    </tr>\n",
       "    <tr>\n",
       "      <th>0</th>\n",
       "      <td>20240430_100207</td>\n",
       "      <td>1</td>\n",
       "      <td>0</td>\n",
       "    </tr>\n",
       "  </tbody>\n",
       "</table>\n",
       "</div>"
      ],
      "text/plain": [
       "          filename pred label\n",
       "0  20240430_100159    1     1\n",
       "0  20240430_100201    1     0\n",
       "0  20240430_100203    0     0\n",
       "0  20240430_100205    1     0\n",
       "0  20240430_100207    1     0"
      ]
     },
     "execution_count": 13,
     "metadata": {},
     "output_type": "execute_result"
    }
   ],
   "source": [
    "preds.head()"
   ]
  },
  {
   "cell_type": "code",
   "execution_count": 20,
   "metadata": {},
   "outputs": [],
   "source": [
    "preds.to_csv('inj_no_finetune_preds.csv',index=False)"
   ]
  },
  {
   "cell_type": "code",
   "execution_count": 14,
   "metadata": {},
   "outputs": [
    {
     "data": {
      "text/html": [
       "<div>\n",
       "<style scoped>\n",
       "    .dataframe tbody tr th:only-of-type {\n",
       "        vertical-align: middle;\n",
       "    }\n",
       "\n",
       "    .dataframe tbody tr th {\n",
       "        vertical-align: top;\n",
       "    }\n",
       "\n",
       "    .dataframe thead th {\n",
       "        text-align: right;\n",
       "    }\n",
       "</style>\n",
       "<table border=\"1\" class=\"dataframe\">\n",
       "  <thead>\n",
       "    <tr style=\"text-align: right;\">\n",
       "      <th></th>\n",
       "      <th>filename</th>\n",
       "      <th>pred</th>\n",
       "      <th>label</th>\n",
       "    </tr>\n",
       "  </thead>\n",
       "  <tbody>\n",
       "    <tr>\n",
       "      <th>0</th>\n",
       "      <td>20240430_100159</td>\n",
       "      <td>1</td>\n",
       "      <td>1</td>\n",
       "    </tr>\n",
       "    <tr>\n",
       "      <th>0</th>\n",
       "      <td>20240430_100201</td>\n",
       "      <td>1</td>\n",
       "      <td>0</td>\n",
       "    </tr>\n",
       "    <tr>\n",
       "      <th>0</th>\n",
       "      <td>20240430_100203</td>\n",
       "      <td>0</td>\n",
       "      <td>0</td>\n",
       "    </tr>\n",
       "    <tr>\n",
       "      <th>0</th>\n",
       "      <td>20240430_100205</td>\n",
       "      <td>1</td>\n",
       "      <td>0</td>\n",
       "    </tr>\n",
       "    <tr>\n",
       "      <th>0</th>\n",
       "      <td>20240430_100207</td>\n",
       "      <td>1</td>\n",
       "      <td>0</td>\n",
       "    </tr>\n",
       "  </tbody>\n",
       "</table>\n",
       "</div>"
      ],
      "text/plain": [
       "          filename pred label\n",
       "0  20240430_100159    1     1\n",
       "0  20240430_100201    1     0\n",
       "0  20240430_100203    0     0\n",
       "0  20240430_100205    1     0\n",
       "0  20240430_100207    1     0"
      ]
     },
     "execution_count": 14,
     "metadata": {},
     "output_type": "execute_result"
    }
   ],
   "source": [
    "preds.head()"
   ]
  },
  {
   "cell_type": "code",
   "execution_count": 15,
   "metadata": {},
   "outputs": [
    {
     "name": "stdout",
     "output_type": "stream",
     "text": [
      "              precision    recall  f1-score   support\n",
      "\n",
      "           0       0.66      0.40      0.49       622\n",
      "           1       0.33      0.59      0.42       315\n",
      "\n",
      "    accuracy                           0.46       937\n",
      "   macro avg       0.49      0.49      0.46       937\n",
      "weighted avg       0.55      0.46      0.47       937\n",
      "\n"
     ]
    }
   ],
   "source": [
    "# pred_df = pd.DataFrame(preds)\n",
    "from sklearn.metrics import classification_report\n",
    "print(classification_report(preds.label.values.astype(int),preds.pred.values.astype(int)))\n"
   ]
  },
  {
   "cell_type": "code",
   "execution_count": 19,
   "metadata": {},
   "outputs": [
    {
     "data": {
      "text/plain": [
       "tensor(0.4942)"
      ]
     },
     "execution_count": 19,
     "metadata": {},
     "output_type": "execute_result"
    }
   ],
   "source": [
    "from torchmetrics import AUROC\n",
    "\n",
    "ROC = AUROC(num_classes=2,task='binary')\n",
    "ROC(torch.from_numpy(preds.label.values.astype(int)),torch.from_numpy(preds.pred.values.astype(int)))\n"
   ]
  }
 ],
 "metadata": {
  "kernelspec": {
   "display_name": "openmmlab2",
   "language": "python",
   "name": "python3"
  },
  "language_info": {
   "codemirror_mode": {
    "name": "ipython",
    "version": 3
   },
   "file_extension": ".py",
   "mimetype": "text/x-python",
   "name": "python",
   "nbconvert_exporter": "python",
   "pygments_lexer": "ipython3",
   "version": "3.9.18"
  }
 },
 "nbformat": 4,
 "nbformat_minor": 2
}
