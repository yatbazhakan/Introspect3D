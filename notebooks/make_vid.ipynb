{
 "cells": [
  {
   "cell_type": "code",
   "execution_count": 1,
   "metadata": {},
   "outputs": [
    {
     "name": "stdout",
     "output_type": "stream",
     "text": [
      "GIF created successfully at /home/wmg-5gcat/Desktop/Sajjad/DistEstIntrospection/Introspect3D/outputs/visualisation/video.gif\n"
     ]
    }
   ],
   "source": [
    "from PIL import Image\n",
    "import os\n",
    "\n",
    "# List to store the images\n",
    "images = []\n",
    "fps_divisor = 5\n",
    "output_folder = '/home/wmg-5gcat/Desktop/Sajjad/DistEstIntrospection/Introspect3D/outputs/visualisation'\n",
    "# Loop through the folder and collect all images\n",
    "counter = 0\n",
    "for file_name in sorted(os.listdir(output_folder)):\n",
    "    counter+=1\n",
    "    if file_name.endswith(('.png', '.jpg', '.jpeg', '.bmp')):\n",
    "        file_path = os.path.join(output_folder, file_name)\n",
    "        images.append(Image.open(file_path))\n",
    "\n",
    "# Save images as a GIF\n",
    "output_gif_path = os.path.join(output_folder, 'video.gif')\n",
    "if images:\n",
    "    images[0].save(\n",
    "        output_gif_path,\n",
    "        save_all=True,\n",
    "        append_images=images[1:],\n",
    "        duration=int(100*fps_divisor),  # Duration between frames in milliseconds\n",
    "        loop=0  # 0 means loop forever\n",
    "    )\n",
    "    print(f\"GIF created successfully at {output_gif_path}\")\n",
    "else:\n",
    "    print(\"No images found in the folder.\")"
   ]
  }
 ],
 "metadata": {
  "kernelspec": {
   "display_name": "distest",
   "language": "python",
   "name": "python3"
  },
  "language_info": {
   "codemirror_mode": {
    "name": "ipython",
    "version": 3
   },
   "file_extension": ".py",
   "mimetype": "text/x-python",
   "name": "python",
   "nbconvert_exporter": "python",
   "pygments_lexer": "ipython3",
   "version": "3.8.19"
  }
 },
 "nbformat": 4,
 "nbformat_minor": 2
}
