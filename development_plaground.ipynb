{
 "cells": [
  {
   "cell_type": "code",
   "execution_count": 17,
   "metadata": {},
   "outputs": [
    {
     "name": "stdout",
     "output_type": "stream",
     "text": [
      "^C\n"
     ]
    }
   ],
   "source": [
    "!pip uninstall open3d"
   ]
  },
  {
   "cell_type": "code",
   "execution_count": 18,
   "metadata": {},
   "outputs": [
    {
     "name": "stdout",
     "output_type": "stream",
     "text": [
      "^C\n"
     ]
    }
   ],
   "source": [
    "!conda install -c open3d-admin open3d\n"
   ]
  },
  {
   "cell_type": "code",
   "execution_count": 1,
   "metadata": {},
   "outputs": [
    {
     "name": "stdout",
     "output_type": "stream",
     "text": [
      "Open3D Version: 0.11.2\n"
     ]
    }
   ],
   "source": [
    "import os\n",
    "import matplotlib.pyplot as plt\n",
    "import pandas as pd\n",
    "import torch\n",
    "import torch.nn as nn\n",
    "import numpy as np\n",
    "from glob import glob\n",
    "import open3d as o3d\n",
    "print(\"Open3D Version: \" + o3d.__version__)\n",
    "# o3d.visualization.webrtc_server.enable_webrtc()\n",
    "kitti_velodyne_path= r\"D:\\introspectionBase\\datasets\\Kitti\\raw\\training\\velodyne\"\n"
   ]
  },
  {
   "cell_type": "code",
   "execution_count": 4,
   "metadata": {},
   "outputs": [
    {
     "data": {
      "application/vnd.jupyter.widget-view+json": {
       "model_id": "72074cf08055454ebede872038c48510",
       "version_major": 2,
       "version_minor": 0
      },
      "text/plain": [
       "JVisualizer with 1 geometries"
      ]
     },
     "metadata": {},
     "output_type": "display_data"
    }
   ],
   "source": [
    "from open3d.j_visualizer import JVisualizer\n",
    "def load_velodyne_points(filename):\n",
    "    points = np.fromfile(filename, dtype=np.float32).reshape(-1, 4)\n",
    "    return points\n",
    "\n",
    "def visualize(points):\n",
    "    fig = plt.figure()\n",
    "    ax = fig.add_subplot(111, projection='3d')\n",
    "    ax.scatter(points[:, 0], points[:, 1], points[:, 2], c=points[:, 3], cmap='viridis')\n",
    "    ax.set_xlabel('X')\n",
    "    ax.set_ylabel('Y')\n",
    "    ax.set_zlabel('Z')\n",
    "    plt.show()\n",
    "\n",
    "if __name__ == '__main__':\n",
    "    filename = os.path.join(kitti_velodyne_path, '000000.bin')\n",
    "    points = load_velodyne_points(filename)\n",
    "    pcd = o3d.geometry.PointCloud()\n",
    "    \n",
    "    # Set the points\n",
    "    pcd.points = o3d.utility.Vector3dVector(points[:, :3])\n",
    "    \n",
    "    # Set the intensity as colors\n",
    "    pcd.colors = o3d.utility.Vector3dVector(points[:, 3:4].repeat(3, axis=1) / 255)\n",
    "    # Visualize the point cloud\n",
    "    visuzlizer = JVisualizer()\n",
    "    visuzlizer.add_geometry(pcd)\n",
    "    visuzlizer.show()\n"
   ]
  },
  {
   "cell_type": "code",
   "execution_count": 21,
   "metadata": {},
   "outputs": [
    {
     "name": "stdout",
     "output_type": "stream",
     "text": [
      "0.14285714285714285\n"
     ]
    }
   ],
   "source": [
    "import open3d as o3d\n",
    "import numpy as np\n",
    "def get_yaw_from_rotation_matrix(R):\n",
    "    \"\"\"\n",
    "    Extract the yaw angle from a 3x3 rotation matrix.\n",
    "    \n",
    "    Parameters:\n",
    "        R (numpy.ndarray): 3x3 rotation matrix.\n",
    "        \n",
    "    Returns:\n",
    "        float: Yaw angle in radians.\n",
    "    \"\"\"\n",
    "    # Convert rotation matrix to Euler angles\n",
    "    yaw_angle = np.arctan2(R[1, 0], R[0, 0])\n",
    "    \n",
    "    return yaw_angle\n",
    "def project_to_axis(points, axis):\n",
    "    return np.dot(points, axis)\n",
    "\n",
    "def overlap_on_axis(points1, points2, axis):\n",
    "    min1 = np.min(project_to_axis(points1, axis))\n",
    "    max1 = np.max(project_to_axis(points1, axis))\n",
    "    min2 = np.min(project_to_axis(points2, axis))\n",
    "    max2 = np.max(project_to_axis(points2, axis))\n",
    "    overlap = max(0, min(max1, max2) - max(min1, min2))\n",
    "    return overlap\n",
    "def create_oriented_box(center, dimensions, yaw):\n",
    "    R = np.array([\n",
    "        [np.cos(yaw), -np.sin(yaw), 0],\n",
    "        [np.sin(yaw), np.cos(yaw), 0],\n",
    "        [0, 0, 1]\n",
    "    ])\n",
    "    return o3d.geometry.OrientedBoundingBox(center=center, R=R, extent=dimensions)\n",
    "\n",
    "\n",
    "def rotate_points(points, yaw):\n",
    "    R = np.array([\n",
    "        [np.cos(yaw), -np.sin(yaw), 0],\n",
    "        [np.sin(yaw), np.cos(yaw), 0],\n",
    "        [0, 0, 1]\n",
    "    ])\n",
    "    return np.dot(points, R.T)\n",
    "\n",
    "def calculate_iou(box1,box2):\n",
    "    # Create corner points for both boxes\n",
    "    center1 = np.array(box1.center)\n",
    "    center2 = np.array(box2.center)\n",
    "    dimensions1 = np.array(box1.extent)\n",
    "    dimensions2 = np.array(box2.extent)\n",
    "    yaw1 = get_yaw_from_rotation_matrix(box1.R)\n",
    "    yaw2 = get_yaw_from_rotation_matrix(box2.R)\n",
    "    half_dims1 = dimensions1 / 2\n",
    "    half_dims2 = dimensions2 / 2\n",
    "    corners1 = np.array([np.array([x, y, z]) for x in [-half_dims1[0], half_dims1[0]] for y in [-half_dims1[1], half_dims1[1]] for z in [-half_dims1[2], half_dims1[2]]])\n",
    "    corners2 = np.array([np.array([x, y, z]) for x in [-half_dims2[0], half_dims2[0]] for y in [-half_dims2[1], half_dims2[1]] for z in [-half_dims2[2], half_dims2[2]]])\n",
    "    \n",
    "    # Rotate and translate corners\n",
    "    corners1 = rotate_points(corners1, yaw1) + center1\n",
    "    corners2 = rotate_points(corners2, yaw2) + center2\n",
    "    \n",
    "    # Calculate axis-aligned bounding boxes for intersection\n",
    "    min_bound1 = np.min(corners1, axis=0)\n",
    "    max_bound1 = np.max(corners1, axis=0)\n",
    "    min_bound2 = np.min(corners2, axis=0)\n",
    "    max_bound2 = np.max(corners2, axis=0)\n",
    "    \n",
    "    # Calculate intersection\n",
    "    min_intersect = np.maximum(min_bound1, min_bound2)\n",
    "    max_intersect = np.minimum(max_bound1, max_bound2)\n",
    "    intersection_dims = np.maximum(0, max_intersect - min_intersect)\n",
    "    intersection_volume = np.prod(intersection_dims)\n",
    "    \n",
    "    # Calculate volumes of the individual boxes\n",
    "    vol1 = np.prod(dimensions1)\n",
    "    vol2 = np.prod(dimensions2)\n",
    "    \n",
    "    # Calculate IoU\n",
    "    iou = intersection_volume / (vol1 + vol2 - intersection_volume)\n",
    "    return iou\n",
    "# Generate random center for the first box\n",
    "# center1 = np.random.rand(3) * 10\n",
    "\n",
    "# # Generate random extents (dimensions) for the first box\n",
    "# extent1 = np.random.rand(3) * 5\n",
    "\n",
    "# # Generate random rotation matrix for the first box\n",
    "# angle1 = np.random.rand() * np.pi\n",
    "# R1 = o3d.geometry.get_rotation_matrix_from_xyz([0, angle1, 0])\n",
    "\n",
    "# # Create the first oriented bounding box\n",
    "# box1 = o3d.geometry.OrientedBoundingBox(center=center1, R=R1, extent=extent1)\n",
    "# yaw_angle = get_yaw_from_rotation_matrix(box1.R)\n",
    "\n",
    "# # Generate random translation to ensure some overlap\n",
    "# translation = np.random.rand(3) * 2 - 1  # Values between -1 and 1\n",
    "\n",
    "# # Generate random extents (dimensions) for the second box\n",
    "# extent2 = np.random.rand(3) * 5\n",
    "\n",
    "# # Generate random rotation matrix for the second box\n",
    "# angle2 = np.random.rand() * np.pi\n",
    "# R2 = o3d.geometry.get_rotation_matrix_from_xyz([0, angle2, 0])\n",
    "\n",
    "# # Create the second oriented bounding box with some overlap\n",
    "# center2 = center1 + translation\n",
    "# box2 = o3d.geometry.OrientedBoundingBox(center=center2, R=R2, extent=extent2)\n",
    "center1 = np.array([0, 0, 0])\n",
    "dimensions1 = np.array([4, 4, 4])\n",
    "yaw1 = 0\n",
    "\n",
    "# Define the properties of the second box (Box B)\n",
    "# We'll position this box such that it overlaps with Box A to achieve an IoU of ~0.75\n",
    "center2 = np.array([2, 2, 0])\n",
    "dimensions2 = np.array([4, 4, 4])\n",
    "yaw2 = 0\n",
    "\n",
    "box1 = create_oriented_box(center1, dimensions1, yaw1)\n",
    "box2 = create_oriented_box(center2, dimensions2, yaw2)\n",
    "print(calculate_iou(box1, box2))\n",
    "\n"
   ]
  },
  {
   "cell_type": "code",
   "execution_count": 4,
   "metadata": {},
   "outputs": [],
   "source": [
    "import random\n",
    "import os\n",
    "import numpy as np\n",
    "kitti_velodyne_path= r\"D:\\introspectionBase\\datasets\\Kitti\\raw\\training\\velodyne\"\n",
    "\n",
    "def read_calib_file(calib_file):\n",
    "    with open(calib_file, 'r') as f:\n",
    "        lines = f.readlines()\n",
    "        calibration = {}\n",
    "\n",
    "        for line in lines:\n",
    "            # print(line)\n",
    "            try:\n",
    "                key, value = line.split(':')\n",
    "            except ValueError:\n",
    "                continue\n",
    "            calibration[key] = np.array([float(x) for x in value.strip().split()])\n",
    "        return calibration\n",
    "config_file = r'D:\\mmdetection3d\\configs\\pointpillars/pointpillars_hv_secfpn_8xb6-160e_kitti-3d-3class.py'\n",
    "# download the checkpoint from model zoo and put it in `checkpoints/`\n",
    "checkpoint = r'D:\\mmdetection3d/ckpts/hv_pointpillars_secfpn_6x8_160e_kitti-3d-3class_20220301_150306-37dc2420.pth'\n",
    "test_num  = random.randint(0,7480)\n",
    "filename = os.path.join(kitti_velodyne_path, f'{test_num:06}.bin')\n",
    "calib_data = read_calib_file(filename.replace('.bin', '.txt').replace(\"velodyne\",\"calib\"))"
   ]
  },
  {
   "cell_type": "code",
   "execution_count": 5,
   "metadata": {},
   "outputs": [
    {
     "data": {
      "text/plain": [
       "{'P0': array([721.5377,   0.    , 609.5593,   0.    ,   0.    , 721.5377,\n",
       "        172.854 ,   0.    ,   0.    ,   0.    ,   1.    ,   0.    ]),\n",
       " 'P1': array([ 721.5377,    0.    ,  609.5593, -387.5744,    0.    ,  721.5377,\n",
       "         172.854 ,    0.    ,    0.    ,    0.    ,    1.    ,    0.    ]),\n",
       " 'P2': array([7.215377e+02, 0.000000e+00, 6.095593e+02, 4.485728e+01,\n",
       "        0.000000e+00, 7.215377e+02, 1.728540e+02, 2.163791e-01,\n",
       "        0.000000e+00, 0.000000e+00, 1.000000e+00, 2.745884e-03]),\n",
       " 'P3': array([ 7.215377e+02,  0.000000e+00,  6.095593e+02, -3.395242e+02,\n",
       "         0.000000e+00,  7.215377e+02,  1.728540e+02,  2.199936e+00,\n",
       "         0.000000e+00,  0.000000e+00,  1.000000e+00,  2.729905e-03]),\n",
       " 'R0_rect': array([ 0.9999239 ,  0.00983776, -0.00744505, -0.0098698 ,  0.9999421 ,\n",
       "        -0.00427846,  0.00740253,  0.00435161,  0.9999631 ]),\n",
       " 'Tr_velo_to_cam': array([ 7.533745e-03, -9.999714e-01, -6.166020e-04, -4.069766e-03,\n",
       "         1.480249e-02,  7.280733e-04, -9.998902e-01, -7.631618e-02,\n",
       "         9.998621e-01,  7.523790e-03,  1.480755e-02, -2.717806e-01]),\n",
       " 'Tr_imu_to_velo': array([ 9.999976e-01,  7.553071e-04, -2.035826e-03, -8.086759e-01,\n",
       "        -7.854027e-04,  9.998898e-01, -1.482298e-02,  3.195559e-01,\n",
       "         2.024406e-03,  1.482454e-02,  9.998881e-01, -7.997231e-01])}"
      ]
     },
     "execution_count": 5,
     "metadata": {},
     "output_type": "execute_result"
    }
   ],
   "source": [
    "calib_data"
   ]
  }
 ],
 "metadata": {
  "kernelspec": {
   "display_name": "openmmlab",
   "language": "python",
   "name": "python3"
  },
  "language_info": {
   "codemirror_mode": {
    "name": "ipython",
    "version": 3
   },
   "file_extension": ".py",
   "mimetype": "text/x-python",
   "name": "python",
   "nbconvert_exporter": "python",
   "pygments_lexer": "ipython3",
   "version": "3.8.18"
  }
 },
 "nbformat": 4,
 "nbformat_minor": 2
}
